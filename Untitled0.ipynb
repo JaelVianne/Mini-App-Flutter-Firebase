{
  "nbformat": 4,
  "nbformat_minor": 0,
  "metadata": {
    "colab": {
      "provenance": [],
      "authorship_tag": "ABX9TyNPNUfGnrwdpDEMD3YTkA4T",
      "include_colab_link": true
    },
    "kernelspec": {
      "name": "python3",
      "display_name": "Python 3"
    },
    "language_info": {
      "name": "python"
    }
  },
  "cells": [
    {
      "cell_type": "markdown",
      "metadata": {
        "id": "view-in-github",
        "colab_type": "text"
      },
      "source": [
        "<a href=\"https://colab.research.google.com/github/JaelVianne/Mini-App-Flutter-Firebase/blob/main/Untitled0.ipynb\" target=\"_parent\"><img src=\"https://colab.research.google.com/assets/colab-badge.svg\" alt=\"Open In Colab\"/></a>"
      ]
    },
    {
      "cell_type": "code",
      "execution_count": 1,
      "metadata": {
        "colab": {
          "base_uri": "https://localhost:8080/"
        },
        "id": "m85irRTBxTSP",
        "outputId": "4b29dfcf-00c2-4f01-c81c-caed48b3cf72"
      },
      "outputs": [
        {
          "output_type": "stream",
          "name": "stdout",
          "text": [
            "Requirement already satisfied: cryptography in /usr/local/lib/python3.11/dist-packages (43.0.3)\n",
            "Requirement already satisfied: cffi>=1.12 in /usr/local/lib/python3.11/dist-packages (from cryptography) (1.17.1)\n",
            "Requirement already satisfied: pycparser in /usr/local/lib/python3.11/dist-packages (from cffi>=1.12->cryptography) (2.22)\n"
          ]
        }
      ],
      "source": [
        "!pip install cryptography"
      ]
    },
    {
      "cell_type": "code",
      "source": [
        "from cryptography.fernet import Fernet\n",
        "import os\n",
        "\n",
        "ARCHIVO_CLAVE = \"clave.key\"\n",
        "ARCHIVO_DATOS = \"datos_cifrados.txt\"\n",
        "\n",
        "def generar_clave():\n",
        "    clave = Fernet.generate_key()\n",
        "    with open(ARCHIVO_CLAVE, \"wb\") as f:\n",
        "        f.write(clave)\n",
        "    return clave\n",
        "\n",
        "def cargar_clave():\n",
        "    if not os.path.exists(ARCHIVO_CLAVE):\n",
        "        raise FileNotFoundError(\"Archivo de clave no encontrado.\")\n",
        "    with open(ARCHIVO_CLAVE, \"rb\") as f:\n",
        "        return f.read()\n",
        "\n",
        "def cifrar_datos():\n",
        "    clave = generar_clave()\n",
        "    fernet = Fernet(clave)\n",
        "    datos = input(\"🔐 Ingrese los datos que desea cifrar: \")\n",
        "    cifrado = fernet.encrypt(datos.encode())\n",
        "    with open(ARCHIVO_DATOS, \"wb\") as f:\n",
        "        f.write(cifrado)\n",
        "    print(\"Datos cifrados y guardados exitosamente.\")\n",
        "\n",
        "def desencriptar_datos():\n",
        "    try:\n",
        "        clave = cargar_clave()\n",
        "        fernet = Fernet(clave)\n",
        "        with open(ARCHIVO_DATOS, \"rb\") as f:\n",
        "            cifrado = f.read()\n",
        "        descifrado = fernet.decrypt(cifrado).decode()\n",
        "        print(\"Datos descifrados:\")\n",
        "        print(descifrado)\n",
        "    except Exception as e:\n",
        "        print(\"Error al desencriptar:\", e)"
      ],
      "metadata": {
        "id": "Cd7RM3mpxuYs"
      },
      "execution_count": 7,
      "outputs": []
    },
    {
      "cell_type": "code",
      "source": [
        "cifrar_datos()"
      ],
      "metadata": {
        "id": "4LhwgsQ9yCzL"
      },
      "execution_count": null,
      "outputs": []
    },
    {
      "cell_type": "code",
      "source": [
        "desencriptar_datos()"
      ],
      "metadata": {
        "id": "dEXZAqCpypke"
      },
      "execution_count": null,
      "outputs": []
    }
  ]
}